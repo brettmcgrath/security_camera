{
 "cells": [
  {
   "cell_type": "code",
   "execution_count": 2,
   "metadata": {},
   "outputs": [],
   "source": [
    "import numpy as np\n",
    "import albumentations as A\n",
    "import cv2\n",
    "from PIL import Image, ImageShow\n",
    "import shutil\n",
    "import os\n",
    "import re\n",
    "from matplotlib import pyplot as plt\n",
    "import random\n",
    "import pandas as pd\n",
    "import seaborn as sns"
   ]
  },
  {
   "cell_type": "code",
   "execution_count": 2,
   "metadata": {},
   "outputs": [
    {
     "ename": "FileNotFoundError",
     "evalue": "[WinError 2] The system cannot find the file specified: 'armas (1084).txt.rf.7c480f1b74f30b1b6500f8d116394c81.txt' -> 'holster_img336.txt'",
     "output_type": "error",
     "traceback": [
      "\u001b[1;31m---------------------------------------------------------------------------\u001b[0m",
      "\u001b[1;31mFileNotFoundError\u001b[0m                         Traceback (most recent call last)",
      "\u001b[1;32m<ipython-input-2-493811c9e5b9>\u001b[0m in \u001b[0;36m<module>\u001b[1;34m\u001b[0m\n\u001b[0;32m     16\u001b[0m \u001b[0mk\u001b[0m \u001b[1;33m=\u001b[0m \u001b[1;36m1\u001b[0m\u001b[1;33m\u001b[0m\u001b[1;33m\u001b[0m\u001b[0m\n\u001b[0;32m     17\u001b[0m \u001b[1;32mfor\u001b[0m \u001b[0mi\u001b[0m \u001b[1;32min\u001b[0m \u001b[0morder\u001b[0m\u001b[1;33m:\u001b[0m\u001b[1;33m\u001b[0m\u001b[1;33m\u001b[0m\u001b[0m\n\u001b[1;32m---> 18\u001b[1;33m     \u001b[0mos\u001b[0m\u001b[1;33m.\u001b[0m\u001b[0mrename\u001b[0m\u001b[1;33m(\u001b[0m\u001b[0mi\u001b[0m\u001b[1;33m,\u001b[0m \u001b[1;34mf\"holster_img{k}.txt\"\u001b[0m\u001b[1;33m)\u001b[0m\u001b[1;33m\u001b[0m\u001b[1;33m\u001b[0m\u001b[0m\n\u001b[0m\u001b[0;32m     19\u001b[0m     \u001b[0mk\u001b[0m \u001b[1;33m+=\u001b[0m \u001b[1;36m1\u001b[0m\u001b[1;33m\u001b[0m\u001b[1;33m\u001b[0m\u001b[0m\n",
      "\u001b[1;31mFileNotFoundError\u001b[0m: [WinError 2] The system cannot find the file specified: 'armas (1084).txt.rf.7c480f1b74f30b1b6500f8d116394c81.txt' -> 'holster_img336.txt'"
     ]
    }
   ],
   "source": [
    "# os.chdir(r'C:/Users/Athos/code/DSI/capstone/security_camera/final_data/holster_images')\n",
    "# os.getcwd()\n",
    "\n",
    "# file_list = os.listdir()\n",
    "# order = []\n",
    "\n",
    "# j = 1\n",
    "# for file in file_list:\n",
    "#     os.rename(file, f\"holster_img{j}.jpg\")\n",
    "#     order.append(file.replace('.jpg', '.txt'))\n",
    "#     j +=1\n",
    "\n",
    "# os.chdir(r'C:/Users/Athos/code/DSI/capstone/security_camera/final_data/holster_labels')\n",
    "# os.getcwd()\n",
    "\n",
    "# k = 1\n",
    "# for i in order:\n",
    "#     os.rename(i, f\"holster_img{k}.txt\")\n",
    "#     k += 1"
   ]
  },
  {
   "cell_type": "code",
   "execution_count": 5,
   "metadata": {},
   "outputs": [],
   "source": [
    "os.chdir(r'C:/Users/Athos/code/DSI/capstone/security_camera/final_data/sa_images')\n",
    "os.getcwd()\n",
    "\n",
    "file_list = os.listdir()\n",
    "order = []\n",
    "\n",
    "j = 1\n",
    "for file in file_list:\n",
    "    os.rename(file, f\"sa_img{j}.jpg\")\n",
    "    order.append(file[:-4])\n",
    "    j +=1\n",
    "\n",
    "os.chdir(r'C:/Users/Athos/code/DSI/capstone/security_camera/final_data/sa_labels')\n",
    "os.getcwd()\n",
    "\n",
    "k = 1\n",
    "for i in order:\n",
    "    os.rename(f'{i}.txt', f\"sa_img{k}.txt\")\n",
    "    k += 1"
   ]
  },
  {
   "cell_type": "code",
   "execution_count": null,
   "metadata": {},
   "outputs": [],
   "source": [
    "# for i in img_files:\n",
    "#     print(i)"
   ]
  },
  {
   "cell_type": "code",
   "execution_count": 16,
   "metadata": {},
   "outputs": [
    {
     "name": "stdout",
     "output_type": "stream",
     "text": [
      "41262514-norwood-bank-robbery-image-2-.\n",
      "876x576_1__1__-876x576.\n",
      "armed-1_1571937124169-_39551622_ver1-0-1024x576.\n",
      "boaz-robbery-suspect-edited-902e7651b77239d5.\n",
      "capitol-petro-robber_1530804935745-_12236268_ver1-0-1024x576.\n",
      "colville-robbery_1557336306519-_38323183_ver1-0-1024x576.\n"
     ]
    }
   ],
   "source": [
    "# os.chdir(r'C:/Users/Athos/code/DSI/security_camera/yolov5/cleaned_data/train/new/data_additions/more_resized')\n",
    "# os.getcwd()\n",
    "\n",
    "# file_list = os.listdir()\n",
    "# file_list = [i.replace('jpg', '').replace('JPG', '').replace('jpeg', '') for i in new_file_list]\n",
    "\n",
    "# os.chdir(r'C:/Users/Athos/code/DSI/security_camera/yolov5/cleaned_data/train/new/data_additions/more_resized_labels/')\n",
    "# os.getcwd()\n",
    "# new_file_list = os.listdir()\n",
    "# new_file_list = [i.replace('txt', '') for i in new_file_list]\n",
    "# for file in file_list:\n",
    "#     if file.replace('jpg', '').replace('jpeg', '') not in new_file_list:\n",
    "#         print(file)"
   ]
  },
  {
   "cell_type": "code",
   "execution_count": null,
   "metadata": {},
   "outputs": [],
   "source": []
  }
 ],
 "metadata": {
  "kernelspec": {
   "display_name": "Python 3",
   "language": "python",
   "name": "python3"
  },
  "language_info": {
   "codemirror_mode": {
    "name": "ipython",
    "version": 3
   },
   "file_extension": ".py",
   "mimetype": "text/x-python",
   "name": "python",
   "nbconvert_exporter": "python",
   "pygments_lexer": "ipython3",
   "version": "3.8.3"
  }
 },
 "nbformat": 4,
 "nbformat_minor": 4
}
