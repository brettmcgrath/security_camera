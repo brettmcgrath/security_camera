{
 "cells": [
  {
   "cell_type": "markdown",
   "metadata": {},
   "source": [
    "The following code is used for inference on image and video"
   ]
  },
  {
   "cell_type": "code",
   "execution_count": 1,
   "metadata": {},
   "outputs": [
    {
     "name": "stdout",
     "output_type": "stream",
     "text": [
      "C:\\Users\\Athos\\code\\DSI\\capstone\\trials\\model3\\yolov5\n",
      "Namespace(agnostic_nms=False, augment=False, classes=None, conf_thres=0.4, device='', img_size=416, iou_thres=0.5, output='inference/output', save_txt=False, source='inference/moon.png', update=False, view_img=True, weights=['runs/exp0_yolov5s_results/weights/best.pt'])\n",
      "Fusing layers... \n",
      "image 1/1 C:\\Users\\Athos\\code\\DSI\\capstone\\trials\\model3\\yolov5\\inference\\moon.png: 288x416 1 handguns, Done. (0.151s)\n",
      "Results saved to inference\\output\n",
      "Done. (0.311s)\n"
     ]
    },
    {
     "name": "stderr",
     "output_type": "stream",
     "text": [
      "Using CPU\n",
      "\n",
      "Model Summary: 140 layers, 7.24652e+06 parameters, 0 gradients\n"
     ]
    }
   ],
   "source": [
    "%cd yolov5\n",
    "\n",
    "!python detect.py --weights runs/exp0_yolov5s_results/weights/best.pt --source inference/moon.png --view-img --output inference/output"
   ]
  },
  {
   "cell_type": "code",
   "execution_count": null,
   "metadata": {},
   "outputs": [],
   "source": []
  }
 ],
 "metadata": {
  "kernelspec": {
   "display_name": "Python 3",
   "language": "python",
   "name": "python3"
  },
  "language_info": {
   "codemirror_mode": {
    "name": "ipython",
    "version": 3
   },
   "file_extension": ".py",
   "mimetype": "text/x-python",
   "name": "python",
   "nbconvert_exporter": "python",
   "pygments_lexer": "ipython3",
   "version": "3.8.3"
  }
 },
 "nbformat": 4,
 "nbformat_minor": 4
}
